{
 "cells": [
  {
   "cell_type": "markdown",
   "id": "26cb72d6",
   "metadata": {},
   "source": [
    "1. Add the current date to the text file today.txt as a string."
   ]
  },
  {
   "cell_type": "code",
   "execution_count": 1,
   "id": "b1ce1308",
   "metadata": {},
   "outputs": [
    {
     "name": "stdout",
     "output_type": "stream",
     "text": [
      "24-06-2023\n"
     ]
    }
   ],
   "source": [
    "import datetime\n",
    "write_mode=open(\"today.txt\",'w')\n",
    "write_mode.write(datetime.datetime.now().strftime(\"%d-%m-%Y\"))\n",
    "write_mode.close()\n",
    "read_mode=open(\"today.txt\",'r')\n",
    "print(read_mode.read())\n",
    "read_mode.close()"
   ]
  },
  {
   "cell_type": "code",
   "execution_count": 2,
   "id": "75cc7065",
   "metadata": {},
   "outputs": [
    {
     "name": "stdout",
     "output_type": "stream",
     "text": [
      "24-06-2023\n"
     ]
    }
   ],
   "source": [
    "read_mode=open(\"today.txt\",'r')\n",
    "print(read_mode.read())"
   ]
  },
  {
   "cell_type": "markdown",
   "id": "4eff89fb",
   "metadata": {},
   "source": [
    "2. Read the text file today.txt into the string today_string?"
   ]
  },
  {
   "cell_type": "code",
   "execution_count": 3,
   "id": "1bcbf245",
   "metadata": {},
   "outputs": [
    {
     "name": "stdout",
     "output_type": "stream",
     "text": [
      "24-06-2023\n"
     ]
    }
   ],
   "source": [
    "read_mode = open('today.txt','r')\n",
    "today_string = read_mode.read()\n",
    "print(today_string)"
   ]
  },
  {
   "cell_type": "markdown",
   "id": "ed97aa37",
   "metadata": {},
   "source": [
    "3. Parse the date from today_string."
   ]
  },
  {
   "cell_type": "code",
   "execution_count": 4,
   "id": "ba5133b6",
   "metadata": {},
   "outputs": [
    {
     "name": "stdout",
     "output_type": "stream",
     "text": [
      "2023-06-24 00:00:00\n"
     ]
    }
   ],
   "source": [
    "from datetime import datetime\n",
    "parsed_data = datetime.strptime(today_string, '%d-%m-%Y')\n",
    "print(parsed_data)"
   ]
  },
  {
   "cell_type": "markdown",
   "id": "25c76b1e",
   "metadata": {},
   "source": [
    "4. List the files in your current directory"
   ]
  },
  {
   "cell_type": "code",
   "execution_count": 12,
   "id": "8b1b762f",
   "metadata": {},
   "outputs": [
    {
     "name": "stdout",
     "output_type": "stream",
     "text": [
      "application_log.txt\n",
      "googleplaystore.csv\n",
      "Pyrthon_basic_assignment_6.ipynb\n",
      "Python(basic)- assignment-1.ipynb\n",
      "Python(basic)-assignment-2.ipynb\n",
      "Python(basic)-assignment-3.ipynb\n",
      "Python(basic)-assignment-4.ipynb\n",
      "Python(basic)-assignment-5.ipynb\n",
      "Python(basic)_assignment_9.ipynb\n",
      "Python-basic-assignment_7.ipynb\n",
      "Python-basic_assignment_14.ipynb\n",
      "Python_advance_assignment_1.html\n",
      "Python_advance_assignment_1.ipynb\n",
      "Python_advance_assignment_10.ipynb\n",
      "python_advance_assignment_11.ipynb\n",
      "Python_advance_assignment_12.ipynb\n",
      "Python_advance_assignment_13.ipynb\n",
      "python_advance_assignment_14.ipynb\n",
      "python_advance_assignment_15.ipynb\n",
      "python_advance_assignment_16.ipynb\n",
      "python_advance_assignment_17.ipynb\n",
      "python_advance_assignment_18.ipynb\n",
      "python_advance_assignment_19.ipynb\n",
      "Python_advance_assignment_2.html\n",
      "Python_advance_assignment_2.ipynb\n",
      "python_advance_assignment_20.ipynb\n",
      "Python_advance_assignment_3.ipynb\n",
      "Python_advance_assignment_4.ipynb\n",
      "Python_advance_assignment_5.ipynb\n",
      "Python_advance_assignment_6.ipynb\n",
      "Python_advance_assignment_7.ipynb\n",
      "Python_advance_assignment_8.ipynb\n",
      "Python_advance_assignment_9.ipynb\n",
      "Python_basic-assignment_12.ipynb\n",
      "Python_basic_assignment_10.ipynb\n",
      "Python_basic_assignment_11.ipynb\n",
      "Python_basic_assignment_13.ipynb\n",
      "Python_basic_assignment_15.ipynb\n",
      "Python_basic_assignment_16.ipynb\n",
      "Python_basic_assignment_17.ipynb\n",
      "Python_basic_assignment_18.ipynb\n",
      "Python_basic_assignment_21.ipynb\n",
      "Python_basic_assignment_8.ipynb\n",
      "Python_basic_assignmnt_19.ipynb\n",
      "Python_basic_assignmnt_20.ipynb\n",
      "test.txt\n",
      "today.txt\n",
      "Untitled.ipynb\n",
      "Pyrthon_basic_assignment_6-checkpoint.ipynb\n",
      "Python(basic)- assignment-1-checkpoint.ipynb\n",
      "Python(basic)-assignment-2-checkpoint.ipynb\n",
      "Python(basic)-assignment-3-checkpoint.ipynb\n",
      "Python(basic)-assignment-4-checkpoint.ipynb\n",
      "Python(basic)-assignment-5-checkpoint.ipynb\n",
      "Python(basic)_assignment_9-checkpoint.ipynb\n",
      "Python-basic-assignment_7-checkpoint.ipynb\n",
      "Python-basic_assignment_14-checkpoint.ipynb\n",
      "Python_advance_assignment_1-checkpoint.ipynb\n",
      "Python_advance_assignment_10-checkpoint.ipynb\n",
      "python_advance_assignment_11-checkpoint.ipynb\n",
      "Python_advance_assignment_12-checkpoint.ipynb\n",
      "Python_advance_assignment_13-checkpoint.ipynb\n",
      "python_advance_assignment_14-checkpoint.ipynb\n",
      "python_advance_assignment_15-checkpoint.ipynb\n",
      "python_advance_assignment_16-checkpoint.ipynb\n",
      "python_advance_assignment_17-checkpoint.ipynb\n",
      "python_advance_assignment_18-checkpoint.ipynb\n",
      "python_advance_assignment_19-checkpoint.ipynb\n",
      "Python_advance_assignment_2-checkpoint.ipynb\n",
      "python_advance_assignment_20-checkpoint.ipynb\n",
      "Python_advance_assignment_3-checkpoint.ipynb\n",
      "Python_advance_assignment_4-checkpoint.ipynb\n",
      "Python_advance_assignment_5-checkpoint.ipynb\n",
      "Python_advance_assignment_6-checkpoint.ipynb\n",
      "Python_advance_assignment_7-checkpoint.ipynb\n",
      "Python_advance_assignment_8-checkpoint.ipynb\n",
      "Python_advance_assignment_9-checkpoint.ipynb\n",
      "Python_basic-assignment_12-checkpoint.ipynb\n",
      "Python_basic_assignment_10-checkpoint.ipynb\n",
      "Python_basic_assignment_11-checkpoint.ipynb\n",
      "Python_basic_assignment_13-checkpoint.ipynb\n",
      "Python_basic_assignment_15-checkpoint.ipynb\n",
      "Python_basic_assignment_16-checkpoint.ipynb\n",
      "Python_basic_assignment_17-checkpoint.ipynb\n",
      "Python_basic_assignment_18-checkpoint.ipynb\n",
      "Python_basic_assignment_21-checkpoint.ipynb\n",
      "Python_basic_assignment_8-checkpoint.ipynb\n",
      "Python_basic_assignmnt_19-checkpoint.ipynb\n",
      "Python_basic_assignmnt_20-checkpoint.ipynb\n",
      "Untitled-checkpoint.ipynb\n"
     ]
    }
   ],
   "source": [
    "import os\n",
    "for folders , subfolders ,files in os.walk(os.getcwd()):\n",
    "    for file in files:\n",
    "        print(file)"
   ]
  },
  {
   "cell_type": "markdown",
   "id": "d172b35e",
   "metadata": {},
   "source": [
    "5. Create a list of all of the files in your parent directory (minimum five files should be available)."
   ]
  },
  {
   "cell_type": "code",
   "execution_count": 11,
   "id": "17bd5195",
   "metadata": {},
   "outputs": [
    {
     "data": {
      "text/plain": [
       "['.ipynb_checkpoints',\n",
       " 'application_log.txt',\n",
       " 'googleplaystore.csv',\n",
       " 'Pyrthon_basic_assignment_6.ipynb',\n",
       " 'Python(basic)- assignment-1.ipynb',\n",
       " 'Python(basic)-assignment-2.ipynb',\n",
       " 'Python(basic)-assignment-3.ipynb',\n",
       " 'Python(basic)-assignment-4.ipynb',\n",
       " 'Python(basic)-assignment-5.ipynb',\n",
       " 'Python(basic)_assignment_9.ipynb',\n",
       " 'Python-basic-assignment_7.ipynb',\n",
       " 'Python-basic_assignment_14.ipynb',\n",
       " 'Python_advance_assignment_1.html',\n",
       " 'Python_advance_assignment_1.ipynb',\n",
       " 'Python_advance_assignment_10.ipynb',\n",
       " 'python_advance_assignment_11.ipynb',\n",
       " 'Python_advance_assignment_12.ipynb',\n",
       " 'Python_advance_assignment_13.ipynb',\n",
       " 'python_advance_assignment_14.ipynb',\n",
       " 'python_advance_assignment_15.ipynb',\n",
       " 'python_advance_assignment_16.ipynb',\n",
       " 'python_advance_assignment_17.ipynb',\n",
       " 'python_advance_assignment_18.ipynb',\n",
       " 'python_advance_assignment_19.ipynb',\n",
       " 'Python_advance_assignment_2.html',\n",
       " 'Python_advance_assignment_2.ipynb',\n",
       " 'python_advance_assignment_20.ipynb',\n",
       " 'Python_advance_assignment_3.ipynb',\n",
       " 'Python_advance_assignment_4.ipynb',\n",
       " 'Python_advance_assignment_5.ipynb',\n",
       " 'Python_advance_assignment_6.ipynb',\n",
       " 'Python_advance_assignment_7.ipynb',\n",
       " 'Python_advance_assignment_8.ipynb',\n",
       " 'Python_advance_assignment_9.ipynb',\n",
       " 'Python_basic-assignment_12.ipynb',\n",
       " 'Python_basic_assignment_10.ipynb',\n",
       " 'Python_basic_assignment_11.ipynb',\n",
       " 'Python_basic_assignment_13.ipynb',\n",
       " 'Python_basic_assignment_15.ipynb',\n",
       " 'Python_basic_assignment_16.ipynb',\n",
       " 'Python_basic_assignment_17.ipynb',\n",
       " 'Python_basic_assignment_18.ipynb',\n",
       " 'Python_basic_assignment_21.ipynb',\n",
       " 'Python_basic_assignment_8.ipynb',\n",
       " 'Python_basic_assignmnt_19.ipynb',\n",
       " 'Python_basic_assignmnt_20.ipynb',\n",
       " 'test.txt',\n",
       " 'today.txt',\n",
       " 'Untitled.ipynb']"
      ]
     },
     "execution_count": 11,
     "metadata": {},
     "output_type": "execute_result"
    }
   ],
   "source": [
    "os.listdir()"
   ]
  },
  {
   "cell_type": "markdown",
   "id": "8b3076f9",
   "metadata": {},
   "source": [
    "6. Use multiprocessing to create three separate processes. Make each one wait a random number of seconds between one and five, print the current time, and then exit.\n"
   ]
  },
  {
   "cell_type": "code",
   "execution_count": null,
   "id": "3549e6f4",
   "metadata": {},
   "outputs": [],
   "source": [
    "=> I can't get it."
   ]
  },
  {
   "cell_type": "markdown",
   "id": "bcf5f3d8",
   "metadata": {},
   "source": [
    "7. Create a date object of your day of birth."
   ]
  },
  {
   "cell_type": "code",
   "execution_count": 9,
   "id": "183870e2",
   "metadata": {},
   "outputs": [
    {
     "data": {
      "text/plain": [
       "'Monday'"
      ]
     },
     "execution_count": 9,
     "metadata": {},
     "output_type": "execute_result"
    }
   ],
   "source": [
    "from datetime import datetime\n",
    "my_dob = datetime(2000,3,13)\n",
    "my_dob.strftime(\"%A\")"
   ]
  },
  {
   "cell_type": "markdown",
   "id": "22e07c7d",
   "metadata": {},
   "source": [
    "9. When will you be (or when were you) 10,000 days old?"
   ]
  },
  {
   "cell_type": "code",
   "execution_count": 10,
   "id": "172c54c4",
   "metadata": {},
   "outputs": [
    {
     "data": {
      "text/plain": [
       "datetime.datetime(1968, 10, 26, 0, 0)"
      ]
     },
     "execution_count": 10,
     "metadata": {},
     "output_type": "execute_result"
    }
   ],
   "source": [
    "from datetime import datetime, timedelta\n",
    "my_dob = datetime.strptime(\"13/3/1996\",'%d/%m/%Y')\n",
    "future_date = my_dob-timedelta(10000)\n",
    "future_date"
   ]
  },
  {
   "cell_type": "code",
   "execution_count": null,
   "id": "830b7d3e",
   "metadata": {},
   "outputs": [],
   "source": []
  }
 ],
 "metadata": {
  "kernelspec": {
   "display_name": "Python 3 (ipykernel)",
   "language": "python",
   "name": "python3"
  },
  "language_info": {
   "codemirror_mode": {
    "name": "ipython",
    "version": 3
   },
   "file_extension": ".py",
   "mimetype": "text/x-python",
   "name": "python",
   "nbconvert_exporter": "python",
   "pygments_lexer": "ipython3",
   "version": "3.10.9"
  }
 },
 "nbformat": 4,
 "nbformat_minor": 5
}
